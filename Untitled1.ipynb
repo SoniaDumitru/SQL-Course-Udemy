{
 "cells": [
  {
   "cell_type": "code",
   "execution_count": 1,
   "id": "ad6921c1-70ae-439f-9949-f0cc3aeff9d2",
   "metadata": {},
   "outputs": [],
   "source": [
    "import psycopg2 as pg2"
   ]
  },
  {
   "cell_type": "code",
   "execution_count": 3,
   "id": "5f04bb43-2e5d-4b4c-aad2-34beb49739e4",
   "metadata": {},
   "outputs": [],
   "source": [
    "conn = pg2.connect(database='dvdrental', user='postgres', password='25Deguri')"
   ]
  },
  {
   "cell_type": "code",
   "execution_count": 4,
   "id": "6bf3df79-201d-4b5d-b33a-839565b898b4",
   "metadata": {},
   "outputs": [],
   "source": [
    "cur = conn.cursor()"
   ]
  },
  {
   "cell_type": "code",
   "execution_count": 5,
   "id": "30586c30-02bf-4af9-aef3-a7d0bacf1680",
   "metadata": {},
   "outputs": [],
   "source": [
    "cur.execute('SELECT * FROM payment')"
   ]
  },
  {
   "cell_type": "code",
   "execution_count": 6,
   "id": "231d3e78-d3a6-410f-acb3-a53f9dbae72a",
   "metadata": {},
   "outputs": [
    {
     "data": {
      "text/plain": [
       "(17503,\n",
       " 341,\n",
       " 2,\n",
       " 1520,\n",
       " Decimal('7.99'),\n",
       " datetime.datetime(2007, 2, 15, 22, 25, 46, 996577))"
      ]
     },
     "execution_count": 6,
     "metadata": {},
     "output_type": "execute_result"
    }
   ],
   "source": [
    "cur.fetchone()"
   ]
  },
  {
   "cell_type": "code",
   "execution_count": 7,
   "id": "48911856-c3f3-4995-9c85-d9900834275e",
   "metadata": {},
   "outputs": [
    {
     "data": {
      "text/plain": [
       "[(17504,\n",
       "  341,\n",
       "  1,\n",
       "  1778,\n",
       "  Decimal('1.99'),\n",
       "  datetime.datetime(2007, 2, 16, 17, 23, 14, 996577))]"
      ]
     },
     "execution_count": 7,
     "metadata": {},
     "output_type": "execute_result"
    }
   ],
   "source": [
    "cur.fetchmany()"
   ]
  },
  {
   "cell_type": "code",
   "execution_count": 8,
   "id": "5c87e45b-ae7c-487f-82c9-f24ffc49d97b",
   "metadata": {},
   "outputs": [
    {
     "data": {
      "text/plain": [
       "[(17505,\n",
       "  341,\n",
       "  1,\n",
       "  1849,\n",
       "  Decimal('7.99'),\n",
       "  datetime.datetime(2007, 2, 16, 22, 41, 45, 996577)),\n",
       " (17506,\n",
       "  341,\n",
       "  2,\n",
       "  2829,\n",
       "  Decimal('2.99'),\n",
       "  datetime.datetime(2007, 2, 19, 19, 39, 56, 996577)),\n",
       " (17507,\n",
       "  341,\n",
       "  2,\n",
       "  3130,\n",
       "  Decimal('7.99'),\n",
       "  datetime.datetime(2007, 2, 20, 17, 31, 48, 996577)),\n",
       " (17508,\n",
       "  341,\n",
       "  1,\n",
       "  3382,\n",
       "  Decimal('5.99'),\n",
       "  datetime.datetime(2007, 2, 21, 12, 33, 49, 996577)),\n",
       " (17509,\n",
       "  342,\n",
       "  2,\n",
       "  2190,\n",
       "  Decimal('5.99'),\n",
       "  datetime.datetime(2007, 2, 17, 23, 58, 17, 996577)),\n",
       " (17510,\n",
       "  342,\n",
       "  1,\n",
       "  2914,\n",
       "  Decimal('5.99'),\n",
       "  datetime.datetime(2007, 2, 20, 2, 11, 44, 996577)),\n",
       " (17511,\n",
       "  342,\n",
       "  1,\n",
       "  3081,\n",
       "  Decimal('2.99'),\n",
       "  datetime.datetime(2007, 2, 20, 13, 57, 39, 996577)),\n",
       " (17512,\n",
       "  343,\n",
       "  2,\n",
       "  1547,\n",
       "  Decimal('4.99'),\n",
       "  datetime.datetime(2007, 2, 16, 0, 10, 50, 996577)),\n",
       " (17513,\n",
       "  343,\n",
       "  1,\n",
       "  1564,\n",
       "  Decimal('6.99'),\n",
       "  datetime.datetime(2007, 2, 16, 1, 15, 33, 996577)),\n",
       " (17514,\n",
       "  343,\n",
       "  2,\n",
       "  1879,\n",
       "  Decimal('0.99'),\n",
       "  datetime.datetime(2007, 2, 17, 1, 26, 0, 996577))]"
      ]
     },
     "execution_count": 8,
     "metadata": {},
     "output_type": "execute_result"
    }
   ],
   "source": [
    "cur.fetchmany(10)"
   ]
  },
  {
   "cell_type": "code",
   "execution_count": 9,
   "id": "ffb67697-c270-4bce-aea6-efceadebf7fd",
   "metadata": {},
   "outputs": [],
   "source": [
    "data = cur.fetchmany(3)"
   ]
  },
  {
   "cell_type": "code",
   "execution_count": 10,
   "id": "9b8c073d-d95e-44c0-a199-23176846dc90",
   "metadata": {},
   "outputs": [
    {
     "data": {
      "text/plain": [
       "(17515,\n",
       " 343,\n",
       " 2,\n",
       " 1922,\n",
       " Decimal('0.99'),\n",
       " datetime.datetime(2007, 2, 17, 4, 32, 51, 996577))"
      ]
     },
     "execution_count": 10,
     "metadata": {},
     "output_type": "execute_result"
    }
   ],
   "source": [
    "data[0]"
   ]
  },
  {
   "cell_type": "code",
   "execution_count": 11,
   "id": "9ca9f172-7eea-4719-9ecf-19f5d77313ff",
   "metadata": {},
   "outputs": [
    {
     "data": {
      "text/plain": [
       "Decimal('0.99')"
      ]
     },
     "execution_count": 11,
     "metadata": {},
     "output_type": "execute_result"
    }
   ],
   "source": [
    "data[0][4]"
   ]
  },
  {
   "cell_type": "code",
   "execution_count": null,
   "id": "2431e7b2-81de-44cd-8dce-1ee683574b51",
   "metadata": {},
   "outputs": [],
   "source": []
  }
 ],
 "metadata": {
  "kernelspec": {
   "display_name": "Python 3",
   "language": "python",
   "name": "python3"
  },
  "language_info": {
   "codemirror_mode": {
    "name": "ipython",
    "version": 3
   },
   "file_extension": ".py",
   "mimetype": "text/x-python",
   "name": "python",
   "nbconvert_exporter": "python",
   "pygments_lexer": "ipython3",
   "version": "3.7.4"
  }
 },
 "nbformat": 4,
 "nbformat_minor": 5
}
